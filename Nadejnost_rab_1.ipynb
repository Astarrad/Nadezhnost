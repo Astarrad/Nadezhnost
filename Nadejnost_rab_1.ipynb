{
 "cells": [
  {
   "cell_type": "code",
   "execution_count": 1,
   "metadata": {},
   "outputs": [],
   "source": [
    "import numpy as np\n",
    "import matplotlib.pyplot as plt\n",
    "import pandas as pd\n",
    "import seaborn as sns; sns.set()\n",
    "import scipy.stats, scipy.special"
   ]
  },
  {
   "cell_type": "code",
   "execution_count": 2,
   "metadata": {},
   "outputs": [],
   "source": [
    "# Дано:\n",
    "years = 9\n",
    "k1 = 1.8\n",
    "k2 = 1.24\n",
    "k3 = 1.15\n",
    "k4 = k1\n",
    "\n",
    "tau_r = years * 3.154*10**7\n",
    "\n",
    "# Списки вероятностей безотказной работы объединенные по закону распределения\n",
    "p_exp = np.array([0.981, 0.991, 0.994, 0.976, 0.996])\n",
    "p_norm = np.array([0.978])\n",
    "p_l_norm = np.array([0.964])"
   ]
  },
  {
   "cell_type": "code",
   "execution_count": 3,
   "metadata": {},
   "outputs": [],
   "source": [
    "# Функция поиска параметра lambda эксп. закона распределения:\n",
    "def find_lamb_exp(p_i):\n",
    "    return (-1/tau_r)*(np.log(p_i))\n",
    "\n",
    "# Функция поиска времени безотказной работы эксп. закона распределения:\n",
    "def norm_exp(x_i, lamb_i):\n",
    "    return (-1/lamb_i)*np.log(x_i)\n",
    "\n",
    "# Функция поиска параметра sigma норм. закона распределения:\n",
    "def find_sig_norm(p_i, k):\n",
    "    return (tau_r - k*tau_r)/scipy.special.ndtri(1-p_i)\n",
    "\n",
    "# Функция поиска времени безотказной работы норм. закона распределения:\n",
    "def norm(x_i, sig_i, k):\n",
    "    return (scipy.special.ndtri(1-x_i))*sig_i + k*tau_r\n",
    "\n",
    "# Найдем параметр sigma(zi) в MathCad и вычислим остальные параметры для лн.норм. распределения P4i:\n",
    "sig_zi = 0.30145307552088571247\n",
    "m_zi = np.log(k1*tau_r)-(sig_zi ** 2 / 2)\n",
    "sig_ti = ((np.exp(sig_zi ** 2) - 1) * np.exp(2 * m_zi + sig_zi ** 2)) ** (1 / 2)\n",
    "\n",
    "# Функция поиска времени безотказной работы лог.норм. закона распределения:\n",
    "def log_norm(x_i):\n",
    "    return np.exp(scipy.special.ndtri(1-x_i)*sig_zi + m_zi)"
   ]
  },
  {
   "cell_type": "code",
   "execution_count": 4,
   "metadata": {},
   "outputs": [
    {
     "name": "stdout",
     "output_type": "stream",
     "text": [
      "Выполним проверку найденных данных:\n",
      "\n",
      "Эксп. закон: Ti при Xi=Pi (Должно быть равно tau_r) [2.8386e+08 2.8386e+08 2.8386e+08 2.8386e+08 2.8386e+08]\n",
      "\n",
      "Норм. закон: Ti при Xi=Pi=0.978 (Должно быть равно tau_r) [2.8386e+08]\n",
      "\n",
      "Лог.норм. закон: Ti при Xi=Pi=0.964 (Должно быть равно tau_r) [2.8386e+08]\n",
      "\n",
      "tau_r = 283860000.0\n"
     ]
    }
   ],
   "source": [
    "# Проверим данные\n",
    "lamb_exp = find_lamb_exp(p_exp)\n",
    "# print(lamb_exp)\n",
    "print('Выполним проверку найденных данных:', end='\\n\\n')\n",
    "print('Эксп. закон: Ti при Xi=Pi (Должно быть равно tau_r)', norm_exp(p_exp, lamb_exp), end='\\n\\n')\n",
    "\n",
    "print('Норм. закон: Ti при Xi=Pi=0.978 (Должно быть равно tau_r)', norm(p_norm, find_sig_norm(p_norm, k1), k1), end='\\n\\n')\n",
    "\n",
    "print('Лог.норм. закон: Ti при Xi=Pi=0.964 (Должно быть равно tau_r)', log_norm(p_l_norm), end='\\n\\n')\n",
    "\n",
    "print('tau_r =', tau_r)"
   ]
  },
  {
   "cell_type": "code",
   "execution_count": 5,
   "metadata": {},
   "outputs": [],
   "source": [
    "# Инициализация генератора\n",
    "rg = np.random.default_rng()\n",
    "# Зададим количество итераций:\n",
    "n = 100000\n",
    "# Генерация 22 рядов по n итераций случайных величин равномерно распределенных в промежутке [0,1]\n",
    "j = rg.random((22, n))\n",
    "# Создадим списки вероятностей безотк.раб. для элементов подгрупп:\n",
    "p_1 = np.array([0.978])\n",
    "p_2 = np.array([0.981, 0.981, 0.981, 0.991, 0.994])\n",
    "p_3 = np.array([0.976, 0.976, 0.976, 0.976, 0.976, 0.976, 0.976, 0.976, 0.976, 0.976, 0.996, 0.996, 0.996])\n",
    "p_4 = np.array([0.964, 0.964, 0.964])\n",
    "J_test = pd.DataFrame(j.T)\n",
    "# J_test.hist()\n",
    "# print('Можно заметить, что распределение случайных величин равномерно в промежутке [0:1] \\\n",
    "# для каждого элемента. А значит генератор удовлетворяет требованиям.')"
   ]
  },
  {
   "cell_type": "code",
   "execution_count": 6,
   "metadata": {},
   "outputs": [
    {
     "name": "stdout",
     "output_type": "stream",
     "text": [
      "Элемент #1.1: 0.97789\n"
     ]
    }
   ],
   "source": [
    "# Определим время безотказной работы элементов 1-й подсистемы для всех итераций.\n",
    "\n",
    "lamb_1 = find_sig_norm(p_1, k1)\n",
    "pods_1 = norm(j[0,:], lamb_1, k1)\n",
    "\n",
    "# Проверка на соответствие заданной вероятности безотказной работы:\n",
    "print('Элемент #1.1:', (pods_1>tau_r).mean())"
   ]
  },
  {
   "cell_type": "code",
   "execution_count": 30,
   "metadata": {},
   "outputs": [
    {
     "name": "stdout",
     "output_type": "stream",
     "text": [
      "Элемент #2.1: 0.98062\n",
      "Элемент #2.2: 0.98078\n",
      "Элемент #2.3: 0.98063\n",
      "Элемент #2.4: 0.99081\n",
      "Элемент #2.5: 0.99403\n"
     ]
    }
   ],
   "source": [
    "# Определим время безотказной работы элементов 2-й подсистемы для всех итераций.\n",
    "\n",
    "lamb_2 = find_lamb_exp(p_2)\n",
    "pods_2 = np.empty((lamb_2.shape[0], (j.shape[1])))\n",
    "\n",
    "for k in range(p_2.shape[0]):\n",
    "      pods_2[k] = norm_exp(j[1+k,:], lamb_2[k])[np.newaxis, :]\n",
    "\n",
    "np.place(pods_2, (pods_2>tau_r*k2), tau_r*k2)\n",
    "# Проверка на соответствие заданной вероятности безотказной работы:\n",
    "for k in range(pods_2.shape[0]):\n",
    "    print(f'Элемент #2.{k+1}:', (pods_2[k]>tau_r).mean())"
   ]
  },
  {
   "cell_type": "code",
   "execution_count": 8,
   "metadata": {},
   "outputs": [
    {
     "name": "stdout",
     "output_type": "stream",
     "text": [
      "Элемент #3.1: 0.97569\n",
      "Элемент #3.2: 0.97632\n",
      "Элемент #3.3: 0.97603\n",
      "Элемент #3.4: 0.97595\n",
      "Элемент #3.5: 0.97628\n",
      "Элемент #3.6: 0.97644\n",
      "Элемент #3.7: 0.97519\n",
      "Элемент #3.8: 0.9762\n",
      "Элемент #3.9: 0.97594\n",
      "Элемент #3.10: 0.97608\n",
      "Элемент #3.11: 0.99588\n",
      "Элемент #3.12: 0.99597\n",
      "Элемент #3.13: 0.0\n"
     ]
    }
   ],
   "source": [
    "# Определим время безотказной работы элементов 3-й подсистемы для всех итераций.\n",
    "\n",
    "lamb_3 = find_lamb_exp(p_3[:-1])\n",
    "pods_3 = np.empty((p_3.shape[0], (j.shape[1])))\n",
    "\n",
    "for k in range(p_3.shape[0]-1):\n",
    "      pods_3[k] = norm_exp(j[6+k,:], lamb_3[k])[np.newaxis, :]\n",
    "pods_3[-1] = j[18]\n",
    "\n",
    "# Проверка на соответствие заданной вероятности безотказной работы:\n",
    "for k in range(pods_3.shape[0]):\n",
    "    print(f'Элемент #3.{k+1}:', (pods_3[k]>tau_r).mean())"
   ]
  },
  {
   "cell_type": "code",
   "execution_count": 9,
   "metadata": {},
   "outputs": [
    {
     "name": "stdout",
     "output_type": "stream",
     "text": [
      "Элемент #4.1: 0.96438\n",
      "Элемент #4.2: 0.96501\n",
      "Элемент #4.3: 0.96383\n"
     ]
    }
   ],
   "source": [
    "# Определим время безотказной работы элементов 4-й подсистемы для всех итераций.\n",
    "pods_4 = log_norm(j[-3:])\n",
    "# Проверка на соответствие заданной вероятности безотказной работы:\n",
    "for i in range(pods_4.shape[0]): print(f'Элемент #4.{i+1}:',(pods_4[i]>tau_r).mean())"
   ]
  },
  {
   "cell_type": "code",
   "execution_count": 10,
   "metadata": {},
   "outputs": [],
   "source": [
    "System = pd.DataFrame(np.concatenate((pods_1[np.newaxis], pods_2, pods_3, pods_4), axis=0))\n",
    "System.rename(index={0: '1.1', 1: '2.1', 2: '2.2', 3: '2.3', 4: '2.3хр', 5: 'П1',\n",
    "                     6: '3.1', 7: '3.2', 8: '3.3', 9: '3.4', 10: '3.5', 11: '3.6',\n",
    "                     12: '3.7', 13: '3.8', 14: '3.9', 15: '3.10', 16: '3.9хр', 17: '3.10хр',\n",
    "                     18: 'П2', 19: '4.1', 20: '4.2', 21: '4.3'}, inplace=True)"
   ]
  },
  {
   "cell_type": "code",
   "execution_count": 11,
   "metadata": {},
   "outputs": [],
   "source": [
    "# System"
   ]
  },
  {
   "cell_type": "code",
   "execution_count": 31,
   "metadata": {},
   "outputs": [
    {
     "data": {
      "text/plain": [
       "1.1       0.97789\n",
       "2.1       0.98062\n",
       "2.2       0.98078\n",
       "2.3       0.98063\n",
       "2.3хр     0.99081\n",
       "П1        0.99403\n",
       "3.1       0.97569\n",
       "3.2       0.97632\n",
       "3.3       0.97603\n",
       "3.4       0.97595\n",
       "3.5       0.97628\n",
       "3.6       0.97644\n",
       "3.7       0.97519\n",
       "3.8       0.97620\n",
       "3.9       0.97594\n",
       "3.10      0.97608\n",
       "3.9хр     0.99588\n",
       "3.10хр    0.99597\n",
       "П2        0.00000\n",
       "4.1       0.96438\n",
       "4.2       0.96501\n",
       "4.3       0.96383\n",
       "dtype: float64"
      ]
     },
     "execution_count": 31,
     "metadata": {},
     "output_type": "execute_result"
    }
   ],
   "source": [
    "(System.T>tau_r).mean()"
   ]
  },
  {
   "cell_type": "code",
   "execution_count": 13,
   "metadata": {},
   "outputs": [
    {
     "data": {
      "text/plain": [
       "0.9956"
      ]
     },
     "execution_count": 13,
     "metadata": {},
     "output_type": "execute_result"
    }
   ],
   "source": [
    "(System.T['П2']<0.996).mean()"
   ]
  },
  {
   "cell_type": "markdown",
   "metadata": {},
   "source": [
    "Переход к работе с алгоритмами.\n",
    "\n",
    "По-возможности будут использоваться функции и методы библиотеки NumPy, дабы ускорить работу алгоритма (матричные операции много быстрее, в сравнении с циклами).\n",
    "\n",
    "Создание таблицы для занесения в неё времени работы элементов определяющих минимальное время безотказной работы подсистем 1-4:"
   ]
  },
  {
   "cell_type": "code",
   "execution_count": 14,
   "metadata": {},
   "outputs": [],
   "source": [
    "T = pd.DataFrame(columns=['T1_j', 'T2_j', 'T3_j', 'T4_j'])"
   ]
  },
  {
   "cell_type": "code",
   "execution_count": 32,
   "metadata": {},
   "outputs": [],
   "source": [
    "# Занесение в таблицу времени безотказной работы 1-й подсистемы:\n",
    "T.T1_j = pods_1"
   ]
  },
  {
   "cell_type": "code",
   "execution_count": 33,
   "metadata": {},
   "outputs": [],
   "source": [
    "# Исполнение алгоритма по поиску времени безотказной работы 4-й подсистемы:\n",
    "T.T4_j = np.fmax(np.fmin(pods_4[0], pods_4[1]), pods_4[2])"
   ]
  },
  {
   "cell_type": "code",
   "execution_count": 34,
   "metadata": {},
   "outputs": [],
   "source": [
    "# Исполнение алгоритма по поиску времени безотказной работы 2-й подсистемы:\n",
    "# Объявляем список А, который удовлетворяет условию: A = MIN{t2.1_j, t2.2_j}:\n",
    "A = np.fmin(pods_2[0], pods_2[1])"
   ]
  },
  {
   "cell_type": "code",
   "execution_count": 35,
   "metadata": {},
   "outputs": [],
   "source": [
    "# Опишем правило выделения элементов из списка А, которые: 1) меньше tau_r; 2) для своей итерации имеют t2.3хр_j,\n",
    "# который БОЛЬШЕ чем соответствующий элемент из списка А. \n",
    "# Их в зависимости от дальнейших условий нужно изменить следуя алгоритму.\n",
    "cond_1 = (tau_r > A) & (pods_2[3] >= A)"
   ]
  },
  {
   "cell_type": "code",
   "execution_count": 36,
   "metadata": {},
   "outputs": [],
   "source": [
    "# Введём условия для определения (t2.3_j >= tП1_j), и объединим с предыдущим условием.\n",
    "A_plus_tP = pods_2[2] >= pods_2[4]\n",
    "A_plus_t23 = np.logical_not(A_plus_tP)\n",
    "\n",
    "A_plus_t23 = cond_1 & A_plus_t23\n",
    "A_plus_tP = cond_1 & A_plus_tP"
   ]
  },
  {
   "cell_type": "code",
   "execution_count": 37,
   "metadata": {},
   "outputs": [],
   "source": [
    "# Используем принятые правила как маску для манипуляций с элементами вектора А:\n",
    "np.place(A, A_plus_t23, (A[A_plus_t23]+pods_2[2][A_plus_t23]))\n",
    "np.place(A, A_plus_tP, (A[A_plus_tP]+pods_2[4][A_plus_tP]))"
   ]
  },
  {
   "cell_type": "code",
   "execution_count": 23,
   "metadata": {},
   "outputs": [],
   "source": [
    "T.T2_j = A"
   ]
  },
  {
   "cell_type": "code",
   "execution_count": 24,
   "metadata": {},
   "outputs": [
    {
     "data": {
      "text/html": [
       "<div>\n",
       "<style scoped>\n",
       "    .dataframe tbody tr th:only-of-type {\n",
       "        vertical-align: middle;\n",
       "    }\n",
       "\n",
       "    .dataframe tbody tr th {\n",
       "        vertical-align: top;\n",
       "    }\n",
       "\n",
       "    .dataframe thead th {\n",
       "        text-align: right;\n",
       "    }\n",
       "</style>\n",
       "<table border=\"1\" class=\"dataframe\">\n",
       "  <thead>\n",
       "    <tr style=\"text-align: right;\">\n",
       "      <th></th>\n",
       "      <th>T1_j</th>\n",
       "      <th>T2_j</th>\n",
       "      <th>T3_j</th>\n",
       "      <th>T4_j</th>\n",
       "    </tr>\n",
       "  </thead>\n",
       "  <tbody>\n",
       "    <tr>\n",
       "      <th>0</th>\n",
       "      <td>5.619705e+08</td>\n",
       "      <td>3.287263e+09</td>\n",
       "      <td>NaN</td>\n",
       "      <td>4.402721e+08</td>\n",
       "    </tr>\n",
       "    <tr>\n",
       "      <th>1</th>\n",
       "      <td>6.271053e+08</td>\n",
       "      <td>5.529482e+09</td>\n",
       "      <td>NaN</td>\n",
       "      <td>5.438641e+08</td>\n",
       "    </tr>\n",
       "    <tr>\n",
       "      <th>2</th>\n",
       "      <td>5.448530e+08</td>\n",
       "      <td>1.864962e+09</td>\n",
       "      <td>NaN</td>\n",
       "      <td>6.876435e+08</td>\n",
       "    </tr>\n",
       "    <tr>\n",
       "      <th>3</th>\n",
       "      <td>6.876436e+08</td>\n",
       "      <td>7.489431e+09</td>\n",
       "      <td>NaN</td>\n",
       "      <td>3.850716e+08</td>\n",
       "    </tr>\n",
       "    <tr>\n",
       "      <th>4</th>\n",
       "      <td>4.409454e+08</td>\n",
       "      <td>7.542712e+09</td>\n",
       "      <td>NaN</td>\n",
       "      <td>5.975018e+08</td>\n",
       "    </tr>\n",
       "    <tr>\n",
       "      <th>...</th>\n",
       "      <td>...</td>\n",
       "      <td>...</td>\n",
       "      <td>...</td>\n",
       "      <td>...</td>\n",
       "    </tr>\n",
       "    <tr>\n",
       "      <th>99995</th>\n",
       "      <td>4.464571e+08</td>\n",
       "      <td>1.492386e+09</td>\n",
       "      <td>NaN</td>\n",
       "      <td>5.414064e+08</td>\n",
       "    </tr>\n",
       "    <tr>\n",
       "      <th>99996</th>\n",
       "      <td>6.964936e+08</td>\n",
       "      <td>2.445379e+09</td>\n",
       "      <td>NaN</td>\n",
       "      <td>5.063444e+08</td>\n",
       "    </tr>\n",
       "    <tr>\n",
       "      <th>99997</th>\n",
       "      <td>3.711271e+08</td>\n",
       "      <td>8.859424e+09</td>\n",
       "      <td>NaN</td>\n",
       "      <td>4.919872e+08</td>\n",
       "    </tr>\n",
       "    <tr>\n",
       "      <th>99998</th>\n",
       "      <td>5.161057e+08</td>\n",
       "      <td>5.134953e+09</td>\n",
       "      <td>NaN</td>\n",
       "      <td>4.881280e+08</td>\n",
       "    </tr>\n",
       "    <tr>\n",
       "      <th>99999</th>\n",
       "      <td>4.550798e+08</td>\n",
       "      <td>5.726769e+09</td>\n",
       "      <td>NaN</td>\n",
       "      <td>5.516058e+08</td>\n",
       "    </tr>\n",
       "  </tbody>\n",
       "</table>\n",
       "<p>100000 rows × 4 columns</p>\n",
       "</div>"
      ],
      "text/plain": [
       "               T1_j          T2_j T3_j          T4_j\n",
       "0      5.619705e+08  3.287263e+09  NaN  4.402721e+08\n",
       "1      6.271053e+08  5.529482e+09  NaN  5.438641e+08\n",
       "2      5.448530e+08  1.864962e+09  NaN  6.876435e+08\n",
       "3      6.876436e+08  7.489431e+09  NaN  3.850716e+08\n",
       "4      4.409454e+08  7.542712e+09  NaN  5.975018e+08\n",
       "...             ...           ...  ...           ...\n",
       "99995  4.464571e+08  1.492386e+09  NaN  5.414064e+08\n",
       "99996  6.964936e+08  2.445379e+09  NaN  5.063444e+08\n",
       "99997  3.711271e+08  8.859424e+09  NaN  4.919872e+08\n",
       "99998  5.161057e+08  5.134953e+09  NaN  4.881280e+08\n",
       "99999  4.550798e+08  5.726769e+09  NaN  5.516058e+08\n",
       "\n",
       "[100000 rows x 4 columns]"
      ]
     },
     "execution_count": 24,
     "metadata": {},
     "output_type": "execute_result"
    }
   ],
   "source": [
    "T"
   ]
  },
  {
   "cell_type": "code",
   "execution_count": 25,
   "metadata": {},
   "outputs": [
    {
     "data": {
      "text/plain": [
       "7821823367.755274"
      ]
     },
     "execution_count": 25,
     "metadata": {},
     "output_type": "execute_result"
    }
   ],
   "source": [
    "A.mean()"
   ]
  },
  {
   "cell_type": "code",
   "execution_count": 26,
   "metadata": {},
   "outputs": [
    {
     "data": {
      "text/plain": [
       "0.99939"
      ]
     },
     "execution_count": 26,
     "metadata": {},
     "output_type": "execute_result"
    }
   ],
   "source": [
    "(A>=tau_r).mean()"
   ]
  },
  {
   "cell_type": "code",
   "execution_count": 38,
   "metadata": {},
   "outputs": [
    {
     "data": {
      "text/plain": [
       "0.99939"
      ]
     },
     "execution_count": 38,
     "metadata": {},
     "output_type": "execute_result"
    }
   ],
   "source": [
    "(A>=tau_r).mean()"
   ]
  },
  {
   "cell_type": "code",
   "execution_count": 28,
   "metadata": {},
   "outputs": [
    {
     "data": {
      "text/plain": [
       "0.49873"
      ]
     },
     "execution_count": 28,
     "metadata": {},
     "output_type": "execute_result"
    }
   ],
   "source": [
    "(pods_1 >= (tau_r*k1)).mean()"
   ]
  },
  {
   "cell_type": "code",
   "execution_count": 39,
   "metadata": {},
   "outputs": [
    {
     "data": {
      "text/plain": [
       "356838991.14670384"
      ]
     },
     "execution_count": 39,
     "metadata": {},
     "output_type": "execute_result"
    }
   ],
   "source": [
    "A.mean()"
   ]
  },
  {
   "cell_type": "code",
   "execution_count": null,
   "metadata": {},
   "outputs": [],
   "source": []
  },
  {
   "cell_type": "code",
   "execution_count": null,
   "metadata": {},
   "outputs": [],
   "source": []
  }
 ],
 "metadata": {
  "kernelspec": {
   "display_name": "Python 3",
   "language": "python",
   "name": "python3"
  },
  "language_info": {
   "codemirror_mode": {
    "name": "ipython",
    "version": 3
   },
   "file_extension": ".py",
   "mimetype": "text/x-python",
   "name": "python",
   "nbconvert_exporter": "python",
   "pygments_lexer": "ipython3",
   "version": "3.7.3"
  }
 },
 "nbformat": 4,
 "nbformat_minor": 2
}
